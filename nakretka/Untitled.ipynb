{
 "cells": [
  {
   "cell_type": "code",
   "execution_count": 2,
   "metadata": {},
   "outputs": [],
   "source": [
    "import cv2\n",
    "import os"
   ]
  },
  {
   "cell_type": "code",
   "execution_count": 3,
   "metadata": {},
   "outputs": [],
   "source": [
    "img_width, img_height = 216, 384"
   ]
  },
  {
   "cell_type": "code",
   "execution_count": 3,
   "metadata": {},
   "outputs": [],
   "source": [
    "class_names = ['Brak banderolo', 'Brak nakrętka', 'Niedokręcona', 'Ok nakrętka i banderola', 'Przekrzywiona nakrętka']"
   ]
  },
  {
   "cell_type": "code",
   "execution_count": 4,
   "metadata": {},
   "outputs": [
    {
     "name": "stdout",
     "output_type": "stream",
     "text": [
      "Zerwana banderola\n",
      "0\n",
      "0\n",
      "0\n",
      "20\n",
      "40\n",
      "60\n",
      "80\n",
      "100\n",
      "120\n",
      "140\n",
      "160\n",
      "180\n",
      "200\n",
      "220\n",
      "240\n",
      "260\n",
      "280\n",
      "300\n",
      "320\n",
      "340\n",
      "360\n",
      "380\n",
      "400\n",
      "420\n",
      "440\n",
      "460\n",
      "480\n",
      "500\n",
      "520\n",
      "540\n",
      "560\n",
      "580\n",
      "600\n",
      "620\n",
      "640\n",
      "660\n",
      "680\n",
      "700\n",
      "720\n",
      "740\n",
      "760\n",
      "780\n",
      "800\n",
      "820\n",
      "840\n",
      "860\n",
      "880\n",
      "900\n",
      "920\n",
      "940\n",
      "960\n",
      "980\n",
      "1000\n",
      "1020\n"
     ]
    }
   ],
   "source": [
    "def resize_dataset(label: []):\n",
    "    for image_label in label:\n",
    "        \n",
    "        resized_images = 0\n",
    "        \n",
    "        directory = \"dataset/nakretka/\"+image_label\n",
    "        os.mkdir(os.path.join(\"dataset/nakretka/\", image_label, 'resized'))\n",
    "        print(image_label)\n",
    "        for root, subdirs, files in os.walk(directory):\n",
    "            print(resized_images)\n",
    "            for image in files:\n",
    "                img = cv2.imread(root+\"/\"+image)\n",
    "                img = cv2.resize(img, (img_width, img_height))\n",
    "                cv2.imwrite(directory + '/resized/' + image, img);\n",
    "                resized_images = resized_images + 1\n",
    "                \n",
    "resize_dataset(['Zerwana banderola'])"
   ]
  },
  {
   "cell_type": "code",
   "execution_count": null,
   "metadata": {},
   "outputs": [],
   "source": []
  }
 ],
 "metadata": {
  "kernelspec": {
   "display_name": "Python 3",
   "language": "python",
   "name": "python3"
  },
  "language_info": {
   "codemirror_mode": {
    "name": "ipython",
    "version": 3
   },
   "file_extension": ".py",
   "mimetype": "text/x-python",
   "name": "python",
   "nbconvert_exporter": "python",
   "pygments_lexer": "ipython3",
   "version": "3.8.10"
  }
 },
 "nbformat": 4,
 "nbformat_minor": 2
}
